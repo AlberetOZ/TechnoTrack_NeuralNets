{
 "cells": [
  {
   "cell_type": "code",
   "execution_count": 1,
   "metadata": {},
   "outputs": [],
   "source": [
    "import numpy as np\n",
    "import matplotlib.pyplot as plt\n",
    "import pickle\n",
    "import torch\n",
    "import math\n",
    "from sklearn.model_selection import train_test_split\n",
    "\n",
    "%matplotlib inline"
   ]
  },
  {
   "cell_type": "code",
   "execution_count": 2,
   "metadata": {},
   "outputs": [],
   "source": [
    "class OneHotEncoder:\n",
    "    def __init__(self):\n",
    "        self.transform_mapping = np.zeros((10,10))\n",
    "        for i in range(self.transform_mapping.shape[0]):\n",
    "            self.transform_mapping[i][i] = 1.0\n",
    "    def transform(self, y):\n",
    "        return self.transform_mapping[int(y)]"
   ]
  },
  {
   "cell_type": "code",
   "execution_count": 3,
   "metadata": {},
   "outputs": [],
   "source": [
    "def make_submission(X, net, fname=\"my_submission.csv\"):\n",
    "    X = torch.from_numpy(X).float().cuda()\n",
    "    with open(fname,'w') as fout:\n",
    "        fout.write('Id,Category')\n",
    "        for i in range(X.shape[0]):\n",
    "            y_h = net.forward(X[i], train=False)\n",
    "            y = torch.argmax(y_h)\n",
    "            fout.write(\"\\n{},{}\".format(i, int(y)))"
   ]
  },
  {
   "cell_type": "code",
   "execution_count": 4,
   "metadata": {},
   "outputs": [],
   "source": [
    "def compute_acc(X_test, Y_test, net):\n",
    "    acc = 0.0\n",
    "    X_test = torch.from_numpy(X_test).float().cuda()\n",
    "    Y_test = torch.from_numpy(Y_test).float().cuda()\n",
    "    for i in range(X_test.shape[0]):\n",
    "        y_h = net.forward(X_test[i], train=False)\n",
    "        y_h = y_h.cpu().numpy()\n",
    "        y = np.argmax(y_h)\n",
    "        if(y == Y_test[i]):\n",
    "            acc += 1.0\n",
    "    return acc / Y_test.shape[0]"
   ]
  },
  {
   "cell_type": "code",
   "execution_count": 5,
   "metadata": {},
   "outputs": [],
   "source": [
    "# Read data\n",
    "train_data = None\n",
    "test_data = None\n",
    "encoder = OneHotEncoder()\n",
    "\n",
    "with open('data_train.pickle','rb') as fin:\n",
    "    train_data = pickle.load(fin)\n",
    "with open('data_test_no_labels.pickle','rb') as fin:\n",
    "    test_data = pickle.load(fin)\n",
    "\n",
    "X_train, X_validation, Y_train, Y_validation = train_test_split(train_data['data'], train_data['target'])\n",
    ",\n",
    "Y_train_oh = np.array(list(map(lambda x : encoder.transform(x), Y_train)))\n",
    "Y_validation_oh = np.array(list(map(lambda x : encoder.transform(x), Y_validation)))\n",
    "\n",
    "# Normolize data\n",
    "mean = np.mean(X_train, axis=0)\n",
    "std  = np.std(X_train, axis=0)\n",
    "\n",
    "X_train   = (X_train - mean)/(std + 1e-15)\n",
    "X_validation = (X_validation - mean)/ (std + 1e-15)"
   ]
  },
  {
   "cell_type": "code",
   "execution_count": 6,
   "metadata": {},
   "outputs": [
    {
     "data": {
      "image/png": "[encoded data removed]",
      "text/plain": [
       "<Figure size 432x288 with 16 Axes>"
      ]
     },
     "metadata": {},
     "output_type": "display_data"
    }
   ],
   "source": [
    "n = 4\n",
    "for i in range(n * n):\n",
    "    plt.subplot(n,n,i + 1)\n",
    "    I = train_data['data'][np.random.randint(0, X_train.shape[0]),:]\n",
    "    I = I.reshape((28, 28))\n",
    "    plt.imshow(I, cmap='gray')"
   ]
  },
  {
   "cell_type": "code",
   "execution_count": 7,
   "metadata": {},
   "outputs": [],
   "source": [
    "class Dense:\n",
    "    def __init__(self, in_size, out_size, lambd = 0.0):\n",
    "        self.lambd = lambd\n",
    "        \n",
    "        self.W = torch.randn(out_size, in_size).cuda() * math.sqrt(2 / (out_size + in_size))\n",
    "        self.b = torch.zeros(out_size, ).cuda() \n",
    "        \n",
    "    def forward(self, x, train=True):\n",
    "        self.x = x\n",
    "        return torch.matmul(self.W, x) + self.b\n",
    "    \n",
    "    def get_reg_loss(self):\n",
    "        return self.lambd * (torch.norm(a,(self.W, 2)))\n",
    "    \n",
    "    def backward(self, dz, lr):\n",
    "    \n",
    "        self.dW = torch.ger(dz, self.x) + self.lambd * self.W\n",
    "        self.db = dz\n",
    "\n",
    "        self.dx = torch.matmul(self.W.t(), dz) \n",
    "        self.W = self.W - lr * self.dW\n",
    "        self.b = self.b - lr * self.db\n",
    "        return self.dx"
   ]
  },
  {
   "cell_type": "code",
   "execution_count": 8,
   "metadata": {},
   "outputs": [],
   "source": [
    "class ReLU:\n",
    "    def forward(self, x, train=True):\n",
    "        self.x = x\n",
    "        return torch.relu(x)\n",
    "    \n",
    "    def backward(self, dz, lr=0.1):\n",
    "        dz[self.x < 0] = 0\n",
    "        return dz\n",
    "    "
   ]
  },
  {
   "cell_type": "code",
   "execution_count": 9,
   "metadata": {},
   "outputs": [],
   "source": [
    "class Dropout:\n",
    "    def __init__(self, p):\n",
    "        self.p = p\n",
    "        self.train = True\n",
    "    \n",
    "    def forward(self, x, train=True):\n",
    "        if not train:\n",
    "            self.mask = torch.ones(*x.shape).cuda()\n",
    "            return x\n",
    "        \n",
    "        self.mask = torch.rand(*x.shape).ge(self.p).float().cuda() * (1 / (1 - self.p))\n",
    "        return x * self.mask\n",
    "        \n",
    "    def backward(self, dz, lr):\n",
    "        return dz * self.mask"
   ]
  },
  {
   "cell_type": "code",
   "execution_count": 10,
   "metadata": {},
   "outputs": [],
   "source": [
    "class CrossEntropy:\n",
    "    def forward(self, y_true, y_hat):\n",
    "        self.y_true = y_true\n",
    "        self.y_hat  = y_hat\n",
    "        return -1 * torch.sum( y_true * torch.log (y_hat + 1e-10))\n",
    "    \n",
    "    def backward(self, dz, lr):\n",
    "        return -1 * dz * self.y_true / (self.y_hat + 1e-10)"
   ]
  },
  {
   "cell_type": "code",
   "execution_count": 11,
   "metadata": {},
   "outputs": [],
   "source": [
    "class Softmax:\n",
    "    def forward(self, x, train=True):\n",
    "        self.x = x\n",
    "        exps = torch.exp(x - torch.max(x))\n",
    "        return exps / exps.sum()\n",
    "    \n",
    "    def backward(self, dz, lr):\n",
    "        sm  = self.forward(self.x).cuda()\n",
    "        return torch.matmul(sm * torch.t(torch.eye(self.x.shape[0]).cuda() - sm), dz)\n",
    "    "
   ]
  },
  {
   "cell_type": "code",
   "execution_count": 12,
   "metadata": {},
   "outputs": [],
   "source": [
    "class MnistNet:\n",
    "    def __init__(self, layers, learning_rate, lambd = 0):\n",
    "        self.layers = layers\n",
    "        self.learning_rate = learning_rate\n",
    "        self.lambd = lambd\n",
    "        \n",
    "    def forward(self, x, train=True):\n",
    "        self.x = x\n",
    "        net = x\n",
    "        for i in range(len(self.layers)):\n",
    "            net = self.layers[i].forward(net, train)\n",
    "        return net\n",
    "    \n",
    "    def backward(self, dz):\n",
    "        for i in range(len(self.layers)):\n",
    "            dz  = self.layers[len(self.layers) - i - 1].backward(dz, self.learning_rate)\n",
    "        return dz\n",
    "    \n",
    "    def fit (self, X_train, Y_train, X_valid, Y_valid, num_epochs):\n",
    "        X_train = torch.from_numpy(X_train).float().cuda()\n",
    "        Y_train = torch.from_numpy(Y_train).float().cuda()\n",
    "        \n",
    "        X_valid = torch.from_numpy(X_valid).float().cuda()\n",
    "        Y_valid = torch.from_numpy(Y_valid).float().cuda()\n",
    "        \n",
    "        m1 = X_train.shape[0]\n",
    "        m2 = X_valid.shape[0]\n",
    "        \n",
    "        loss = CrossEntropy() \n",
    "        cost_train = []\n",
    "        cost_valid = []\n",
    "        \n",
    "        lr = self.learning_rate\n",
    "        for iter in range(num_epochs):\n",
    "            print(\"Epoch: \", iter)\n",
    "            \n",
    "            # Learning rate decay\n",
    "            lr *= 0.985\n",
    "            L_acc = 0\n",
    "            for i in range(m1):\n",
    "                x = X_train[i]\n",
    "                y = Y_train[i]\n",
    "                \n",
    "                y_h = self.forward(x)\n",
    "                L1 = loss.forward(y, y_h)/m1\n",
    "                L_acc += L1.item()\n",
    "                \n",
    "                dz = loss.backward(1, lr)\n",
    "                self.backward(dz)\n",
    "                \n",
    "            cost_train.append(L_acc) \n",
    "            print(\"Train cost: \", L_acc)\n",
    "            \n",
    "            L_acc = 0\n",
    "            for i in range(m2):\n",
    "                x = X_valid[i]\n",
    "                y = Y_valid[i]\n",
    "                \n",
    "                y_h = self.forward(x)\n",
    "                L1 = loss.forward(y, y_h)/m2\n",
    "                L_acc += L1.item()\n",
    "                \n",
    "            cost_valid.append(L_acc) \n",
    "            print(\"valid cost: \", L_acc)\n",
    "               \n",
    "        plt.plot(cost_valid)\n",
    "        plt.plot(cost_train)"
   ]
  },
  {
   "cell_type": "code",
   "execution_count": 13,
   "metadata": {},
   "outputs": [],
   "source": [
    "# Define model architecture\n",
    "net = MnistNet([Dense(784, 460, 0.003), ReLU(), Dropout(0.3),  Dense(460, 10, 0.003),  Softmax()], 0.0025)"
   ]
  },
  {
   "cell_type": "code",
   "execution_count": 14,
   "metadata": {},
   "outputs": [
    {
     "name": "stdout",
     "output_type": "stream",
     "text": [
      "Epoch:  0\n",
      "Train cost:  0.33962966212351503\n",
      "valid cost:  0.2748691945880313\n",
      "Epoch:  1\n",
      "Train cost:  0.18787145904035765\n",
      "valid cost:  0.2147099352456352\n",
      "Epoch:  2\n",
      "Train cost:  0.15018577702209981\n",
      "valid cost:  0.18647783909961171\n",
      "Epoch:  3\n",
      "Train cost:  0.1266132789085386\n",
      "valid cost:  0.17304729225460455\n",
      "Epoch:  4\n",
      "Train cost:  0.11944333021700923\n",
      "valid cost:  0.16716216303984882\n",
      "Epoch:  5\n",
      "Train cost:  0.10893776140926065\n",
      "valid cost:  0.16520821664771\n",
      "Epoch:  6\n",
      "Train cost:  0.10804310794430858\n",
      "valid cost:  0.16783585563705816\n",
      "Epoch:  7\n",
      "Train cost:  0.10784365881694472\n",
      "valid cost:  0.16062607136112095\n",
      "Epoch:  8\n",
      "Train cost:  0.10546820901089096\n",
      "valid cost:  0.1581393123110364\n",
      "Epoch:  9\n",
      "Train cost:  0.10045454623126764\n",
      "valid cost:  0.14933069597700685\n",
      "Epoch:  10\n",
      "Train cost:  0.10589779322213509\n",
      "valid cost:  0.14595369913908124\n",
      "Epoch:  11\n",
      "Train cost:  0.09702106024786027\n",
      "valid cost:  0.15584869013199915\n",
      "Epoch:  12\n",
      "Train cost:  0.1029866571590848\n",
      "valid cost:  0.1523864469116063\n",
      "Epoch:  13\n",
      "Train cost:  0.09760177182976011\n",
      "valid cost:  0.14456811693305077\n",
      "Epoch:  14\n",
      "Train cost:  0.0968104429073029\n",
      "valid cost:  0.14534479028231764\n"
     ]
    },
    {
     "data": {
      "image/png": "[encoded data removed]",
      "text/plain": [
       "<Figure size 432x288 with 1 Axes>"
      ]
     },
     "metadata": {},
     "output_type": "display_data"
    }
   ],
   "source": [
    "# Train model\n",
    "net.fit(X_train, Y_train_oh, X_validation, Y_validation_oh, 15)"
   ]
  },
  {
   "cell_type": "code",
   "execution_count": 15,
   "metadata": {},
   "outputs": [
    {
     "name": "stdout",
     "output_type": "stream",
     "text": [
      "Train accuracy:  0.9846603174603175\n",
      "Validation accuracy:  0.9666285714285714\n"
     ]
    }
   ],
   "source": [
    "# Analyze results\n",
    "train_acc = compute_acc(X_train, Y_train, net)\n",
    "validation_acc = compute_acc(X_validation, Y_validation, net)\n",
    "\n",
    "print(\"Train accuracy: \", train_acc)\n",
    "print(\"Validation accuracy: \", validation_acc)"
   ]
  },
  {
   "cell_type": "code",
   "execution_count": 16,
   "metadata": {},
   "outputs": [],
   "source": [
    "# Submit predictions\n",
    "X_test = test_data ['data']\n",
    "X_test   = (X_test - mean)/(std + 1e-15)\n",
    "make_submission(X_test, net)"
   ]
  }
 ],
 "metadata": {
  "kernelspec": {
   "display_name": "Python 3",
   "language": "python",
   "name": "python3"
  },
  "language_info": {
   "codemirror_mode": {
    "name": "ipython",
    "version": 3
   },
   "file_extension": ".py",
   "mimetype": "text/x-python",
   "name": "python",
   "nbconvert_exporter": "python",
   "pygments_lexer": "ipython3",
   "version": "3.6.5"
  }
 },
 "nbformat": 4,
 "nbformat_minor": 2
}
