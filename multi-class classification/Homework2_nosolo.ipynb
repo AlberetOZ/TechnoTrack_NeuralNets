{
 "cells": [
  {
   "cell_type": "code",
   "execution_count": 1,
   "metadata": {},
   "outputs": [],
   "source": [
    "import numpy as np\n",
    "import matplotlib.pyplot as plt\n",
    "import pickle\n",
    "import torch\n",
    "import math\n",
    "\n",
    "%matplotlib inline"
   ]
  },
  {
   "cell_type": "code",
   "execution_count": 2,
   "metadata": {},
   "outputs": [],
   "source": [
    "class OneHotEncoder:\n",
    "    def __init__(self):\n",
    "        self.transform_mapping = np.zeros((10,10))\n",
    "        for i in range(self.transform_mapping.shape[0]):\n",
    "            self.transform_mapping[i][i] = 1.0\n",
    "    def transform(self, y):\n",
    "        return self.transform_mapping[int(y)]"
   ]
  },
  {
   "cell_type": "code",
   "execution_count": 3,
   "metadata": {},
   "outputs": [],
   "source": [
    "def make_submission(X, net, fname=\"my_submission.csv\"):\n",
    "    X = torch.from_numpy(X).float().cuda()\n",
    "    with open(fname,'w') as fout:\n",
    "        fout.write('Id,Category')\n",
    "        for i in range(X.shape[0]):\n",
    "            y_h = net.forward(X[i], train=False)\n",
    "            y = torch.argmax(y_h)\n",
    "            fout.write(\"\\n{},{}\".format(i, int(y)))"
   ]
  },
  {
   "cell_type": "code",
   "execution_count": 4,
   "metadata": {},
   "outputs": [],
   "source": [
    "def compute_acc(X_test, Y_test, net):\n",
    "    acc = 0.0\n",
    "    X_test = torch.from_numpy(X_test).float().cuda()\n",
    "    Y_test = torch.from_numpy(Y_test).float().cuda()\n",
    "    for i in range(X_test.shape[0]):\n",
    "        y_h = net.forward(X_test[i], train=False)\n",
    "        y_h = y_h.cpu().numpy()\n",
    "        y = np.argmax(y_h)\n",
    "        if(y == Y_test[i]):\n",
    "            acc += 1.0\n",
    "    return acc / Y_test.shape[0]"
   ]
  },
  {
   "cell_type": "code",
   "execution_count": 5,
   "metadata": {},
   "outputs": [],
   "source": [
    "# Read data\n",
    "train_data = None\n",
    "test_data = None\n",
    "encoder = OneHotEncoder()\n",
    "\n",
    "with open('data_train.pickle','rb') as fin:\n",
    "    train_data = pickle.load(fin)\n",
    "with open('data_test_no_labels.pickle','rb') as fin:\n",
    "    test_data = pickle.load(fin)\n",
    "\n",
    "# Choose positions of train/validation sets\n",
    "np.random.seed(666)\n",
    "m = train_data['data'].shape[0]\n",
    "train_numbers = np.arange(m)\n",
    "np.random.shuffle(train_numbers)\n",
    "\n",
    "m_train = int(0.8 * m)\n",
    "\n",
    "# Choose train set\n",
    "X_train = train_data['data'][:m_train:]\n",
    "Y_train = train_data['target'][:m_train:]\n",
    "Y_train_oh = np.array(list(map(lambda x : encoder.transform(x), Y_train)))\n",
    "\n",
    "# Choose validation set\n",
    "X_validation = train_data['data'][m_train::]\n",
    "Y_validation = train_data['target'][m_train::]\n",
    "Y_validation_oh = np.array(list(map(lambda x : encoder.transform(x), Y_validation)))\n",
    "\n",
    "# Normolize data\n",
    "mean = np.mean(X_train, axis=0)\n",
    "std  = np.std(X_train, axis=0)\n",
    "\n",
    "X_train   = (X_train - mean)/(std + 1e-15)\n",
    "X_validation = (X_validation - mean)/ (std + 1e-15)"
   ]
  },
  {
   "cell_type": "code",
   "execution_count": 6,
   "metadata": {},
   "outputs": [
    {
     "data": {
      "image/png": "[encoded data removed]",
      "text/plain": [
       "<Figure size 432x288 with 16 Axes>"
      ]
     },
     "metadata": {},
     "output_type": "display_data"
    }
   ],
   "source": [
    "n = 4\n",
    "for i in range(n * n):\n",
    "    plt.subplot(n,n,i + 1)\n",
    "    I = train_data['data'][np.random.randint(0, X_train.shape[0]),:]\n",
    "    I = I.reshape((28, 28))\n",
    "    plt.imshow(I, cmap='gray')"
   ]
  },
  {
   "cell_type": "code",
   "execution_count": 7,
   "metadata": {},
   "outputs": [],
   "source": [
    "class Dense:\n",
    "    def __init__(self, in_size, out_size, lambd = 0.0):\n",
    "        self.lambd = lambd\n",
    "        \n",
    "        self.W = torch.randn(out_size, in_size).cuda() * math.sqrt(2 / (out_size + in_size))\n",
    "        self.b = torch.zeros(out_size, ).cuda() \n",
    "        \n",
    "    def forward(self, x, train=True):\n",
    "        self.x = x\n",
    "        return torch.matmul(self.W, x) + self.b\n",
    "    \n",
    "    def get_reg_loss(self):\n",
    "        return self.lambd * (torch.norm(a,(self.W, 2)))\n",
    "    \n",
    "    def backward(self, dz, lr):\n",
    "    \n",
    "        self.dW = torch.ger(dz, self.x) + self.lambd * self.W\n",
    "        self.db = dz\n",
    "\n",
    "        self.dx = torch.matmul(self.W.t(), dz) \n",
    "        self.W = self.W - lr * self.dW\n",
    "        self.b = self.b - lr * self.db\n",
    "        return self.dx"
   ]
  },
  {
   "cell_type": "code",
   "execution_count": 8,
   "metadata": {},
   "outputs": [],
   "source": [
    "class ReLU:\n",
    "    def forward(self, x, train=True):\n",
    "        self.x = x\n",
    "        return torch.relu(x)\n",
    "    \n",
    "    def backward(self, dz, lr=0.1):\n",
    "        dz[self.x < 0] = 0\n",
    "        return dz\n",
    "    "
   ]
  },
  {
   "cell_type": "code",
   "execution_count": 9,
   "metadata": {},
   "outputs": [],
   "source": [
    "class Dropout:\n",
    "    def __init__(self, p):\n",
    "        self.p = p\n",
    "        self.train = True\n",
    "    \n",
    "    def forward(self, x, train=True):\n",
    "        if not train:\n",
    "            self.mask = torch.ones(*x.shape).cuda()\n",
    "            return x\n",
    "        \n",
    "        self.mask = torch.rand(*x.shape).ge(self.p).float().cuda() * (1 / (1 - self.p))\n",
    "        return x * self.mask\n",
    "        \n",
    "    def backward(self, dz, lr):\n",
    "        return dz * self.mask"
   ]
  },
  {
   "cell_type": "code",
   "execution_count": 10,
   "metadata": {},
   "outputs": [],
   "source": [
    "class CrossEntropy:\n",
    "    def forward(self, y_true, y_hat):\n",
    "        self.y_true = y_true\n",
    "        self.y_hat  = y_hat\n",
    "        return -1 * torch.sum( y_true * torch.log (y_hat + 1e-10))\n",
    "    \n",
    "    def backward(self, dz, lr):\n",
    "        return -1 * dz * self.y_true / (self.y_hat + 1e-10)"
   ]
  },
  {
   "cell_type": "code",
   "execution_count": 11,
   "metadata": {},
   "outputs": [],
   "source": [
    "class Softmax:\n",
    "    def forward(self, x, train=True):\n",
    "        self.x = x\n",
    "        exps = torch.exp(x - torch.max(x))\n",
    "        return exps / exps.sum()\n",
    "    \n",
    "    def backward(self, dz, lr):\n",
    "        sm  = self.forward(self.x).cuda()\n",
    "        return torch.matmul(sm * torch.t(torch.eye(self.x.shape[0]).cuda() - sm), dz)\n",
    "    "
   ]
  },
  {
   "cell_type": "code",
   "execution_count": 12,
   "metadata": {},
   "outputs": [],
   "source": [
    "class MnistNet:\n",
    "    def __init__(self, layers, learning_rate, lambd = 0):\n",
    "        self.layers = layers\n",
    "        self.learning_rate = learning_rate\n",
    "        self.lambd = lambd\n",
    "        \n",
    "    def forward(self, x, train=True):\n",
    "        self.x = x\n",
    "        net = x\n",
    "        for i in range(len(self.layers)):\n",
    "            net = self.layers[i].forward(net, train)\n",
    "        return net\n",
    "    \n",
    "    def backward(self, dz):\n",
    "        for i in range(len(self.layers)):\n",
    "            dz  = self.layers[len(self.layers) - i - 1].backward(dz, self.learning_rate)\n",
    "        return dz\n",
    "    \n",
    "    def fit (self, X_train, Y_train, X_valid, Y_valid, num_epochs):\n",
    "        X_train = torch.from_numpy(X_train).float().cuda()\n",
    "        Y_train = torch.from_numpy(Y_train).float().cuda()\n",
    "        \n",
    "        X_valid = torch.from_numpy(X_valid).float().cuda()\n",
    "        Y_valid = torch.from_numpy(Y_valid).float().cuda()\n",
    "        \n",
    "        m1 = X_train.shape[0]\n",
    "        m2 = X_valid.shape[0]\n",
    "        \n",
    "        loss = CrossEntropy() \n",
    "        cost_train = []\n",
    "        cost_valid = []\n",
    "        \n",
    "        lr = self.learning_rate\n",
    "        for iter in range(num_epochs):\n",
    "            print(\"Epoch: \", iter)\n",
    "            \n",
    "            # Learning rate decay\n",
    "            lr *= 0.985\n",
    "            L_acc = 0\n",
    "            for i in range(m1):\n",
    "                x = X_train[i]\n",
    "                y = Y_train[i]\n",
    "                \n",
    "                y_h = self.forward(x)\n",
    "                L1 = loss.forward(y, y_h)/m1\n",
    "                L_acc += L1.item()\n",
    "                \n",
    "                dz = loss.backward(1, lr)\n",
    "                self.backward(dz)\n",
    "                \n",
    "            cost_train.append(L_acc) \n",
    "            print(\"Train cost: \", L_acc)\n",
    "            \n",
    "            L_acc = 0\n",
    "            for i in range(m2):\n",
    "                x = X_valid[i]\n",
    "                y = Y_valid[i]\n",
    "                \n",
    "                y_h = self.forward(x)\n",
    "                L1 = loss.forward(y, y_h)/m2\n",
    "                L_acc += L1.item()\n",
    "                \n",
    "            cost_valid.append(L_acc) \n",
    "            print(\"valid cost: \", L_acc)\n",
    "               \n",
    "        plt.plot(cost_valid)\n",
    "        plt.plot(cost_train)"
   ]
  },
  {
   "cell_type": "code",
   "execution_count": 47,
   "metadata": {},
   "outputs": [],
   "source": [
    "# Define model architecture\n",
    "net = MnistNet([Dense(784, 160, 0.003), ReLU(), Dropout(0.24),  Dense(160, 75, 0.003), ReLU(), Dropout(0.24), Dense(75, 10, 0.003),  Softmax()], 0.0023)"
   ]
  },
  {
   "cell_type": "code",
   "execution_count": null,
   "metadata": {},
   "outputs": [
    {
     "name": "stdout",
     "output_type": "stream",
     "text": [
      "Epoch:  0\n",
      "Train cost:  0.39531714852402927\n",
      "valid cost:  0.29735926256050954\n",
      "Epoch:  1\n",
      "Train cost:  0.22728562497029078\n",
      "valid cost:  0.25155130405802656\n",
      "Epoch:  2\n",
      "Train cost:  0.18922881372267858\n",
      "valid cost:  0.23209631270899123\n",
      "Epoch:  3\n",
      "Train cost:  0.16664542363507867\n",
      "valid cost:  0.20581031554135024\n",
      "Epoch:  4\n",
      "Train cost:  0.14981681859987647\n",
      "valid cost:  0.20158326188342265\n",
      "Epoch:  5\n",
      "Train cost:  0.14320587442471144\n",
      "valid cost:  0.20675601495106766\n",
      "Epoch:  6\n",
      "Train cost:  0.13956429008759377\n",
      "valid cost:  0.20383119937018193\n",
      "Epoch:  7\n",
      "Train cost:  0.13930974299686563\n",
      "valid cost:  0.18362947387063633\n",
      "Epoch:  8\n",
      "Train cost:  0.13606814931957426\n",
      "valid cost:  0.18154518588887963\n",
      "Epoch:  9\n",
      "Train cost:  0.13149475680524092\n",
      "valid cost:  0.18500570194952576\n",
      "Epoch:  10\n",
      "Train cost:  0.1292479812195615\n",
      "valid cost:  0.18161526854569288\n",
      "Epoch:  11\n",
      "Train cost:  0.13255745089696677\n",
      "valid cost:  0.1771524457438995\n",
      "Epoch:  12\n",
      "Train cost:  0.12623123313623696\n",
      "valid cost:  0.18434545185818332\n",
      "Epoch:  13\n",
      "Train cost:  0.12120386279705303\n",
      "valid cost:  0.1828550282891349\n",
      "Epoch:  14\n",
      "Train cost:  0.12200198569917123\n",
      "valid cost:  0.1863496202794604\n",
      "Epoch:  15\n",
      "Train cost:  0.11890170958489911\n",
      "valid cost:  0.19067870912249354\n",
      "Epoch:  16\n",
      "Train cost:  0.118593044816585\n",
      "valid cost:  0.17944557976238365\n",
      "Epoch:  17\n",
      "Train cost:  0.11988836235230098\n",
      "valid cost:  0.17539363862523868\n",
      "Epoch:  18\n",
      "Train cost:  0.11639442476319584\n",
      "valid cost:  0.18723676213565607\n",
      "Epoch:  19\n",
      "Train cost:  0.11645398921492367\n",
      "valid cost:  0.17455221083468375\n",
      "Epoch:  20\n",
      "Train cost:  0.11665519693127224\n",
      "valid cost:  0.18051595613021787\n",
      "Epoch:  21\n",
      "Train cost:  0.11401579749399858\n",
      "valid cost:  0.17108066969868913\n",
      "Epoch:  22\n",
      "Train cost:  0.11542475649610526\n",
      "valid cost:  0.1819041452570151\n",
      "Epoch:  23\n",
      "Train cost:  0.11030769648686119\n",
      "valid cost:  0.18546134945294168\n",
      "Epoch:  24\n",
      "Train cost:  0.11264621549780224\n",
      "valid cost:  0.1786295510547758\n",
      "Epoch:  25\n",
      "Train cost:  0.11553632193608157\n",
      "valid cost:  0.1716652781394479\n",
      "Epoch:  26\n",
      "Train cost:  0.11275689067098535\n",
      "valid cost:  0.16922997755762795\n",
      "Epoch:  27\n",
      "Train cost:  0.11076118569058553\n",
      "valid cost:  0.17278447517743825\n",
      "Epoch:  28\n",
      "Train cost:  0.11336978601920035\n",
      "valid cost:  0.17002315585285555\n",
      "Epoch:  29\n"
     ]
    }
   ],
   "source": [
    "# Train model\n",
    "net.fit(X_train, Y_train_oh, X_validation, Y_validation_oh, 32)"
   ]
  },
  {
   "cell_type": "code",
   "execution_count": 43,
   "metadata": {},
   "outputs": [
    {
     "name": "stdout",
     "output_type": "stream",
     "text": [
      "Train accuracy:  0.9827142857142858\n",
      "Validation accuracy:  0.9662857142857143\n"
     ]
    }
   ],
   "source": [
    "# Analyze results\n",
    "train_acc = compute_acc(X_train, Y_train, net)\n",
    "validation_acc = compute_acc(X_validation, Y_validation, net)\n",
    "\n",
    "print(\"Train accuracy: \", train_acc)\n",
    "print(\"Validation accuracy: \", validation_acc)"
   ]
  },
  {
   "cell_type": "code",
   "execution_count": 36,
   "metadata": {},
   "outputs": [],
   "source": [
    "# Submit predictions\n",
    "X_test = test_data ['data']\n",
    "X_test   = (X_test - mean)/(std + 1e-15)\n",
    "make_submission(X_test, net)"
   ]
  },
  {
   "cell_type": "code",
   "execution_count": null,
   "metadata": {},
   "outputs": [],
   "source": []
  }
 ],
 "metadata": {
  "kernelspec": {
   "display_name": "Python 3",
   "language": "python",
   "name": "python3"
  },
  "language_info": {
   "codemirror_mode": {
    "name": "ipython",
    "version": 3
   },
   "file_extension": ".py",
   "mimetype": "text/x-python",
   "name": "python",
   "nbconvert_exporter": "python",
   "pygments_lexer": "ipython3",
   "version": "3.6.5"
  }
 },
 "nbformat": 4,
 "nbformat_minor": 2
}
