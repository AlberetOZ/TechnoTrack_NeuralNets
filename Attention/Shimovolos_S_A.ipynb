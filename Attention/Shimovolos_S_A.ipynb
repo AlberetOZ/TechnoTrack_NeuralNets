{
 "cells": [
  {
   "cell_type": "code",
   "execution_count": 1,
   "metadata": {},
   "outputs": [],
   "source": [
    "from tqdm import tqdm_notebook\n",
    "from io import open\n",
    "import unicodedata\n",
    "import string\n",
    "import re\n",
    "import random\n",
    "import time\n",
    "import math\n",
    "\n",
    "import matplotlib.pyplot as plt\n",
    "plt.switch_backend('agg')\n",
    "import matplotlib.ticker as ticker\n",
    "import numpy as np\n",
    "\n",
    "import torch\n",
    "import torch.nn as nn\n",
    "from torch import optim\n",
    "import torch.nn.functional as F\n",
    "\n",
    "if torch.cuda.is_available():\n",
    "    print('CUDA')\n",
    "device = torch.device(\"cuda\" if torch.cuda.is_available() else \"cpu\")"
   ]
  },
  {
   "cell_type": "code",
   "execution_count": 2,
   "metadata": {},
   "outputs": [],
   "source": [
    "SOS_token = 0\n",
    "EOS_token = 1\n",
    "\n",
    "class Lang:\n",
    "    def __init__(self, name):\n",
    "        self.name = name\n",
    "        self.word2index = {}\n",
    "        self.word2count = {}\n",
    "        self.index2word = {SOS_token: \"SOS\", EOS_token: \"EOS\"}\n",
    "        self.n_words = len(self.index2word)\n",
    "\n",
    "    def addSentence(self, sentence):\n",
    "        for word in sentence.split(' '):\n",
    "            self.addWord(word)\n",
    "\n",
    "    def addWord(self, word):\n",
    "        if word not in self.word2index:\n",
    "            self.word2index[word] = self.n_words\n",
    "            self.word2count[word] = 1\n",
    "            self.index2word[self.n_words] = word\n",
    "            self.n_words += 1\n",
    "        else:\n",
    "            self.word2count[word] += 1"
   ]
  },
  {
   "cell_type": "code",
   "execution_count": 3,
   "metadata": {},
   "outputs": [
    {
     "name": "stdout",
     "output_type": "stream",
     "text": [
      "она экономически независима от своих родителей .\tshe is economically independent of her parents .\r\n",
      "она направила наши усилия в нужном направлении .\tshe steered our efforts in the right direction .\r\n",
      "на этом заводе производят телевизоры .\tthey are manufacturing tv sets in this factory .\r\n",
      "она всегда жалуется из за моей маленькой зарплаты .\tshe is always complaining about my small salary .\r\n",
      "они стоят там и едят чипсы .\tthey are standing there and eating potato chips .\r\n",
      "мне не удаётся скомпилировать эту программу .\ti m having some problems compiling this software .\r\n",
      "она улыбнулась в ответ на его нежный взгляд .\tshe smiled in response to his affectionate glance .\r\n",
      "она проводит каждое воскресенье со своей бабушкой .\tshe spends time with her grandmother every sunday .\r\n",
      "каждую субботу после обеда она играет в теннис .\tshe spends every saturday afternoon playing tennis .\r\n",
      "после аварии она перестала бывать на людях .\tshe stopped appearing in public after her accident .\r\n"
     ]
    }
   ],
   "source": [
    "!tail rus_eng_small.txt"
   ]
  },
  {
   "cell_type": "code",
   "execution_count": 4,
   "metadata": {},
   "outputs": [],
   "source": [
    "def readLangs():\n",
    "    print(\"Loading dataset...\")\n",
    "    pairs = []\n",
    "    # Read the file and split into lines\n",
    "    with open('rus_eng_small.txt') as f:\n",
    "        for l in tqdm_notebook(f):\n",
    "            pair = [s for s in l.rstrip('\\n').split('\\t')]\n",
    "            pairs.append(pair)\n",
    "\n",
    "    return Lang('rus'), Lang('eng'), pairs"
   ]
  },
  {
   "cell_type": "code",
   "execution_count": 5,
   "metadata": {},
   "outputs": [
    {
     "name": "stdout",
     "output_type": "stream",
     "text": [
      "Loading dataset...\n"
     ]
    },
    {
     "data": {
      "application/vnd.jupyter.widget-view+json": {
       "model_id": "feb2e1edd59c46a3955732e153966904",
       "version_major": 2,
       "version_minor": 0
      },
      "text/plain": [
       "HBox(children=(IntProgress(value=1, bar_style='info', max=1), HTML(value='')))"
      ]
     },
     "metadata": {},
     "output_type": "display_data"
    },
    {
     "name": "stdout",
     "output_type": "stream",
     "text": [
      "\n",
      "Read 19288 sentence pairs\n",
      "Counting words...\n",
      "Counted words:\n",
      "rus 8960\n",
      "eng 3914\n",
      "['я не блефую .', 'i m not bluffing .']\n"
     ]
    }
   ],
   "source": [
    "def prepareData():\n",
    "    input_lang, output_lang, pairs = readLangs()\n",
    "    print(\"Read %s sentence pairs\" % len(pairs))\n",
    "    print(\"Counting words...\")\n",
    "    for pair in pairs:\n",
    "        input_lang.addSentence(pair[0])\n",
    "        output_lang.addSentence(pair[1])\n",
    "    print(\"Counted words:\")\n",
    "    print(input_lang.name, input_lang.n_words)\n",
    "    print(output_lang.name, output_lang.n_words)\n",
    "    return input_lang, output_lang, pairs\n",
    "\n",
    "\n",
    "input_lang, output_lang, pairs = prepareData()\n",
    "MAX_LENGTH = 10\n",
    "print(random.choice(pairs))"
   ]
  },
  {
   "cell_type": "code",
   "execution_count": 6,
   "metadata": {},
   "outputs": [],
   "source": [
    "def indexesFromSentence(lang, sentence):\n",
    "    return [lang.word2index[word] for word in sentence.split(' ')]\n",
    "\n",
    "\n",
    "def tensorFromSentence(lang, sentence):\n",
    "    indexes = indexesFromSentence(lang, sentence)\n",
    "    indexes.append(EOS_token)\n",
    "    return torch.tensor(indexes, dtype=torch.long, device=device).view(-1, 1)\n",
    "\n",
    "\n",
    "def tensorsFromPair(pair):\n",
    "    input_tensor = tensorFromSentence(input_lang, pair[0])\n",
    "    target_tensor = tensorFromSentence(output_lang, pair[1])\n",
    "    return (input_tensor, target_tensor)"
   ]
  },
  {
   "cell_type": "code",
   "execution_count": 7,
   "metadata": {},
   "outputs": [],
   "source": [
    "class EncoderRNN(nn.Module):\n",
    "    def __init__(self, input_size, nlayers, hidden_size):\n",
    "        super().__init__()\n",
    "        self.hidden_size = hidden_size\n",
    "        self.nlayers = nlayers\n",
    "\n",
    "        self.embedding = nn.Embedding(input_size, hidden_size)\n",
    "        self.rnn = nn.LSTM(hidden_size, hidden_size, nlayers)\n",
    "\n",
    "    def forward(self, x, hidden):\n",
    "        embedded = self.embedding(x)\n",
    "        output, hidden = self.rnn(embedded, hidden)\n",
    "        return output, hidden\n",
    "\n",
    "    def initHidden(self):\n",
    "        return torch.zeros(self.nlayers, 1, self.hidden_size, device=device), \\\n",
    "               torch.zeros(self.nlayers, 1, self.hidden_size, device=device)"
   ]
  },
  {
   "cell_type": "markdown",
   "metadata": {},
   "source": [
    "## Заполните метод вычисления аддитивного аттеншна в ячейке ниже."
   ]
  },
  {
   "cell_type": "markdown",
   "metadata": {},
   "source": [
    "готовый ноутбук слать на o.shlyazhko@corp.mail.ru"
   ]
  },
  {
   "cell_type": "code",
   "execution_count": 8,
   "metadata": {},
   "outputs": [],
   "source": [
    "class AttnDecoder(nn.Module):\n",
    "    def __init__(self, hidden_size, nlayers, output_size, dropout_p=0.4, max_length=MAX_LENGTH):\n",
    "        super().__init__()\n",
    "        self.hidden_size = hidden_size\n",
    "        self.nlayers = nlayers\n",
    "        self.output_size = output_size\n",
    "        self.dropout_p = dropout_p\n",
    "        self.max_length = max_length\n",
    "\n",
    "        self.embedding = nn.Embedding(self.output_size, self.hidden_size)\n",
    "        \n",
    "        self.rnn = nn.LSTM(self.hidden_size, self.hidden_size, nlayers)\n",
    "        self.out = nn.Linear(self.hidden_size, self.output_size)\n",
    "        \n",
    "        self.dropout = nn.Dropout(self.dropout_p)\n",
    "        self.attn_combine = nn.Linear(self.hidden_size * 2, self.hidden_size)\n",
    "        \n",
    "        self.attn_acivation = nn.Tanh()\n",
    "        self.vec = torch.nn.Parameter(torch.rand(hidden_size ,1))\n",
    "        self.matrix_h = torch.nn.Parameter(torch.rand(hidden_size, hidden_size))\n",
    "        self.matrix_s = torch.nn.Parameter(torch.rand(hidden_size, hidden_size))\n",
    "        \n",
    "        self.softmax = nn.LogSoftmax(dim=1)\n",
    "        \n",
    "        # !!! DEFINE ATTENTION MODULES HERE\n",
    "        \n",
    "        print('Decoder created')\n",
    "        \n",
    "\n",
    "    def forward(self, x, hidden, encoder_outputs):\n",
    "        embedded = self.embedding(x)\n",
    "        embedded = self.dropout(embedded)\n",
    "        embedded = embedded.transpose(0, 1)\n",
    "        encoder_outputs = encoder_outputs.transpose(0, 1)\n",
    "\n",
    "        attn_weights = self.attention(encoder_outputs, embedded)\n",
    "        context = torch.bmm(attn_weights.transpose(1,-1), encoder_outputs)\n",
    "        \n",
    "        output = torch.cat((embedded, context), dim=-1)\n",
    "        output = self.attn_combine(output).transpose(0,1)\n",
    "        output = F.relu(output)\n",
    "        output, hidden = self.rnn(output, hidden)\n",
    "\n",
    "        logits = self.out(output)\n",
    "        output = F.log_softmax(logits, dim=-1)\n",
    "        return output, hidden, attn_weights\n",
    "    \n",
    "    def attention(self, encoder_outputs, embedded):\n",
    "       \n",
    "        B = embedded.shape[0]\n",
    "        T2 = embedded.shape[1]\n",
    "        T1 = encoder_outputs.shape[1]\n",
    "        \n",
    "        embedded_t = embedded.transpose(1, -1) # [B, C, T2]\n",
    "        \n",
    "        # W_h *h\n",
    "        emb_dot = torch.matmul(self.matrix_h, embedded_t)\n",
    "        # W_s *e\n",
    "        enc_dot = torch.matmul(self.matrix_s, encoder_outputs.transpose(1, 2))\n",
    "        \n",
    "        # Expand tensors to [B, N, T1, T2]\n",
    "        emb_expand = emb_dot.unsqueeze(-1).expand(-1, -1, -1, encoder_outputs.shape[1])\n",
    "        enc_expand = enc_dot.unsqueeze(-1).expand(-1, -1, -1, embedded_t.shape[2])\n",
    "        emb_expand = emb_expand.transpose(2, 3)\n",
    "        \n",
    "        # tanh(W_h *h + W_s *e)\n",
    "        active_sum = self.attn_acivation(emb_expand + enc_expand)\n",
    "        \n",
    "        # multiply V_a by each vector of B [T1, T2, N] tensor => B [T1, T2]\n",
    "        res = torch.matmul(self.vec.transpose(0, 1), active_sum.permute(0, 2, 3, 1).unsqueeze(-1)).squeeze(-1).squeeze(-1)   \n",
    "        return F.softmax(res, dim = -2)\n",
    "\n",
    "    def initHidden(self):\n",
    "        return torch.zeros(1, 1, self.hidden_size, device=device)"
   ]
  },
  {
   "cell_type": "code",
   "execution_count": 9,
   "metadata": {},
   "outputs": [],
   "source": [
    "def train(input_tensor, target_tensor, encoder, decoder, \n",
    "          optimizer,  criterion):\n",
    "    \"\"\"\n",
    "    Прогоняем forward и backward pass на одном батче\n",
    "    \"\"\"\n",
    "    encoder_hidden = encoder.initHidden()\n",
    "\n",
    "    optimizer.zero_grad()\n",
    "\n",
    "    input_length = input_tensor.size(0)\n",
    "    target_length = target_tensor.size(0)\n",
    "\n",
    "    loss = 0\n",
    "\n",
    "    encoder_outputs, encoder_hidden = encoder(input_tensor, encoder_hidden)\n",
    "\n",
    "    decoder_input = torch.tensor([[SOS_token]], device=device)\n",
    "\n",
    "    decoder_hidden = encoder_hidden # STATE TRANSFER\n",
    "    \n",
    "    if teacher_forcing_ratio == 1.: # use fast parallel mode\n",
    "        decoder_input = torch.cat([decoder_input, target_tensor[:-1]], dim=0)\n",
    "        decoder_outputs, decoder_hidden, decoder_attention = decoder(decoder_input, decoder_hidden, encoder_outputs)\n",
    "        decoder_outputs = decoder_outputs.squeeze()\n",
    "        loss += criterion(decoder_outputs, target_tensor.squeeze())\n",
    "        loss_value = loss.item()\n",
    "    else:\n",
    "        for di in range(target_length):\n",
    "            use_teacher_forcing = True if random.random() < teacher_forcing_ratio else False\n",
    "            print(teacher_forcing_ratio)\n",
    "            decoder_output, decoder_hidden, decoder_attention = decoder(decoder_input, decoder_hidden, encoder_outputs)\n",
    "            decoder_output = decoder_output.view(decoder_output.size(0), -1)\n",
    "            loss += criterion(decoder_output, target_tensor[di])\n",
    "            if use_teacher_forcing:\n",
    "                decoder_input = target_tensor[di].unsqueeze(0)  # Teacher forcing\n",
    "            else:\n",
    "                topv, topi = decoder_output.topk(1)\n",
    "                decoder_input = topi.detach()\n",
    "        loss_value =  loss.item() / target_length\n",
    "\n",
    "    loss.backward()\n",
    "\n",
    "    optimizer.step()\n",
    "\n",
    "    return loss_value"
   ]
  },
  {
   "cell_type": "code",
   "execution_count": 10,
   "metadata": {},
   "outputs": [],
   "source": [
    "def as_minutes(s):\n",
    "    m = math.floor(s / 60)\n",
    "    s -= m * 60\n",
    "    return '%dm %ds' % (m, s)\n",
    "\n",
    "def time_since(since, percent):\n",
    "    now = time.time()\n",
    "    s = now - since\n",
    "    es = s / (percent)\n",
    "    rs = es - s\n",
    "    return '%s (- %s)' % (as_minutes(s), as_minutes(rs))"
   ]
  },
  {
   "cell_type": "code",
   "execution_count": 11,
   "metadata": {},
   "outputs": [],
   "source": [
    "def show_plot(points):\n",
    "    plt.figure()\n",
    "    fig, ax = plt.subplots()\n",
    "    # this locator puts ticks at regular intervals\n",
    "    loc = ticker.MultipleLocator(base=0.2)\n",
    "    ax.yaxis.set_major_locator(loc)\n",
    "    plt.plot(points)"
   ]
  },
  {
   "cell_type": "code",
   "execution_count": 12,
   "metadata": {},
   "outputs": [],
   "source": [
    "def run_training(encoder, decoder, n_iters, print_every=1000, plot_every=100):\n",
    "    \"\"\"\n",
    "    Цикл тренировки\n",
    "    \"\"\"\n",
    "    start = time.time()\n",
    "    plot_losses = []\n",
    "    print_loss_total = 0  # Reset every print_every\n",
    "    plot_loss_total = 0  # Reset every plot_every\n",
    "\n",
    "    for i in range(1, n_iters + 1):\n",
    "        training_pair = training_pairs[i - 1]\n",
    "        input_tensor = training_pair[0]\n",
    "        target_tensor = training_pair[1]\n",
    "\n",
    "        if i > n_iters / 2:\n",
    "            teacher_forcing_ratio = (n_iters - i) / n_iters\n",
    "        loss = train(input_tensor, target_tensor, encoder, decoder, optimizer, criterion)\n",
    "        print_loss_total += loss\n",
    "        plot_loss_total += loss\n",
    "\n",
    "        if i % print_every == 0:\n",
    "            print_loss_avg = print_loss_total / print_every\n",
    "            print_loss_total = 0\n",
    "            dt = time_since(start, i / n_iters)\n",
    "            print('%s (%d %d%%) %.4f' % (dt, i, i / n_iters * 100, print_loss_avg))\n",
    "\n",
    "        if i % plot_every == 0:\n",
    "            plot_loss_avg = plot_loss_total / plot_every\n",
    "            plot_losses.append(plot_loss_avg)\n",
    "            plot_loss_total = 0\n",
    "\n",
    "    show_plot(plot_losses);"
   ]
  },
  {
   "cell_type": "code",
   "execution_count": 13,
   "metadata": {},
   "outputs": [],
   "source": [
    "def evaluate(encoder, decoder, sentence, max_length=MAX_LENGTH):\n",
    "    with torch.no_grad():\n",
    "        input_tensor = tensorFromSentence(input_lang, sentence)\n",
    "        input_length = input_tensor.size()[0]\n",
    "        \n",
    "        encoder_hidden = encoder.initHidden()\n",
    "        encoder_outputs, encoder_hidden = encoder(input_tensor, encoder_hidden)\n",
    "\n",
    "        decoder_input = torch.tensor([[SOS_token]], device=device)\n",
    "        decoder_hidden = encoder_hidden # STATE TRANSFER\n",
    "    \n",
    "        decoded_words = []\n",
    "        decoder_attentions = []\n",
    "        for di in range(max_length):\n",
    "            use_teacher_forcing = True if random.random() < teacher_forcing_ratio else False\n",
    "            decoder_output, decoder_hidden, decoder_attention = decoder(decoder_input, decoder_hidden, encoder_outputs)\n",
    "            decoder_attentions.append(decoder_attention)\n",
    "            decoder_output = decoder_output.view(decoder_output.size(0), -1)\n",
    "            topv, topi = decoder_output.topk(1)\n",
    "            decoder_input = topi.detach()\n",
    "            if topi.item() == EOS_token:\n",
    "                break\n",
    "            word = output_lang.index2word[topi.item()]\n",
    "            decoded_words.append(word)\n",
    "\n",
    "        return decoded_words, decoder_attentions"
   ]
  },
  {
   "cell_type": "code",
   "execution_count": 14,
   "metadata": {},
   "outputs": [],
   "source": [
    "def evaluate_randomly(encoder, decoder, n=10):\n",
    "    for i in range(n):\n",
    "        pair = random.choice(pairs)\n",
    "        print('>', pair[0])\n",
    "        print('=', pair[1])\n",
    "        output_words, attentions = evaluate(encoder, decoder, pair[0])\n",
    "        output_sentence = ' '.join(output_words)\n",
    "        print('<', output_sentence)\n",
    "        print('')"
   ]
  },
  {
   "cell_type": "code",
   "execution_count": 15,
   "metadata": {},
   "outputs": [
    {
     "data": {
      "application/vnd.jupyter.widget-view+json": {
       "model_id": "77889a978adb4c2ab07821bc43ce8451",
       "version_major": 2,
       "version_minor": 0
      },
      "text/plain": [
       "HBox(children=(IntProgress(value=0, description='prepare set', max=10000), HTML(value='')))"
      ]
     },
     "metadata": {},
     "output_type": "display_data"
    },
    {
     "name": "stdout",
     "output_type": "stream",
     "text": [
      "\n"
     ]
    }
   ],
   "source": [
    "n_iters=10000\n",
    "training_pairs = [tensorsFromPair(random.choice(pairs)) for i in tqdm_notebook(range(n_iters), desc='prepare set')]"
   ]
  },
  {
   "cell_type": "code",
   "execution_count": 23,
   "metadata": {},
   "outputs": [
    {
     "name": "stdout",
     "output_type": "stream",
     "text": [
      "Decoder created\n"
     ]
    }
   ],
   "source": [
    "hidden_size = 256\n",
    "encoder = EncoderRNN(input_lang.n_words, 1, hidden_size)\n",
    "decoder = AttnDecoder(hidden_size, 1, output_lang.n_words, dropout_p=0.1)"
   ]
  },
  {
   "cell_type": "code",
   "execution_count": 24,
   "metadata": {},
   "outputs": [],
   "source": [
    "teacher_forcing_ratio = 1.\n",
    "learning_rate=0.002\n",
    "optimizer = optim.Adam(list(encoder.parameters())+list(decoder.parameters()), lr=learning_rate)\n",
    "criterion = nn.NLLLoss()"
   ]
  },
  {
   "cell_type": "markdown",
   "metadata": {},
   "source": [
    "### Не забудьте запустить тренировку в ячейке ниже, а затем и evaluation"
   ]
  },
  {
   "cell_type": "code",
   "execution_count": null,
   "metadata": {
    "scrolled": true
   },
   "outputs": [
    {
     "name": "stdout",
     "output_type": "stream",
     "text": [
      "0m 50s (- 7m 34s) (1000 10%) 3.1922\n",
      "1m 41s (- 6m 45s) (2000 20%) 2.6993\n",
      "2m 40s (- 6m 13s) (3000 30%) 2.5783\n",
      "3m 39s (- 5m 28s) (4000 40%) 2.4941\n"
     ]
    }
   ],
   "source": [
    "run_training(encoder, decoder, n_iters, print_every=1000)"
   ]
  },
  {
   "cell_type": "code",
   "execution_count": 21,
   "metadata": {
    "scrolled": true
   },
   "outputs": [
    {
     "name": "stdout",
     "output_type": "stream",
     "text": [
      "> они холодные .\n",
      "= they re cold .\n",
      "< they re a doctor .\n",
      "\n",
      "> я озадачена .\n",
      "= i m puzzled .\n",
      "< i m a doctor .\n",
      "\n",
      "> я здесь новичок .\n",
      "= i am new here .\n",
      "< i m a little person .\n",
      "\n",
      "> я семейный человек .\n",
      "= i m a family man .\n",
      "< i m a little tired .\n",
      "\n",
      "> она умерла .\n",
      "= she is dead .\n",
      "< she is a doctor .\n",
      "\n",
      "> я умный человек .\n",
      "= i m a smart man .\n",
      "< i m a little tired .\n",
      "\n",
      "> я смертельно устал .\n",
      "= i am dead tired .\n",
      "< i m going to be a .\n",
      "\n",
      "> я уже в постели .\n",
      "= i m already in bed .\n",
      "< i m going to be a little .\n",
      "\n",
      "> я не собираюсь это пить .\n",
      "= i m not going to drink this .\n",
      "< i m not going to be a little .\n",
      "\n",
      "> я рада это слышать .\n",
      "= i m happy to hear it .\n",
      "< i m going to be a little .\n",
      "\n"
     ]
    }
   ],
   "source": [
    "evaluate_randomly(encoder, decoder.eval())"
   ]
  },
  {
   "cell_type": "code",
   "execution_count": 22,
   "metadata": {
    "scrolled": false
   },
   "outputs": [
    {
     "name": "stdout",
     "output_type": "stream",
     "text": [
      "input = я очень осторожна .\n",
      "output = i m very very busy .\n"
     ]
    },
    {
     "data": {
      "image/png": "[encoded data removed]",
      "text/plain": [
       "<Figure size 432x288 with 2 Axes>"
      ]
     },
     "metadata": {
      "needs_background": "light"
     },
     "output_type": "display_data"
    },
    {
     "name": "stdout",
     "output_type": "stream",
     "text": [
      "input = они всё ещё живут со своими родителями .\n",
      "output = they re still in the same age .\n"
     ]
    },
    {
     "data": {
      "image/png": "[encoded data removed]",
      "text/plain": [
       "<Figure size 432x288 with 2 Axes>"
      ]
     },
     "metadata": {
      "needs_background": "light"
     },
     "output_type": "display_data"
    }
   ],
   "source": [
    "def showAttention(input_sentence, output_words, attentions):\n",
    "    # Set up figure with colorbar\n",
    "    fig = plt.figure()\n",
    "    ax = fig.add_subplot(111)\n",
    "    cax = ax.matshow(attentions.numpy(), cmap='bone')\n",
    "    fig.colorbar(cax)\n",
    "\n",
    "    # Set up axes\n",
    "    ax.set_xticklabels([''] + input_sentence.split(' ') +\n",
    "                       ['<EOS>'], rotation=90)\n",
    "    ax.set_yticklabels([''] + output_words)\n",
    "\n",
    "    # Show label at every tick\n",
    "    ax.xaxis.set_major_locator(ticker.MultipleLocator(1))\n",
    "    ax.yaxis.set_major_locator(ticker.MultipleLocator(1))\n",
    "\n",
    "    plt.show()\n",
    "\n",
    "\n",
    "def evaluateAndShowAttention(input_sentence):\n",
    "    output_words, attentions = evaluate(encoder, decoder, input_sentence)\n",
    "    attentions = torch.cat(attentions).squeeze().cpu()\n",
    "    print('input =', input_sentence)\n",
    "    print('output =', ' '.join(output_words))\n",
    "    showAttention(input_sentence, output_words, attentions)\n",
    "\n",
    "\n",
    "evaluateAndShowAttention(\"я очень осторожна .\")\n",
    "evaluateAndShowAttention(\"они всё ещё живут со своими родителями .\")"
   ]
  },
  {
   "cell_type": "code",
   "execution_count": null,
   "metadata": {},
   "outputs": [],
   "source": []
  }
 ],
 "metadata": {
  "kernelspec": {
   "display_name": "Python 3",
   "language": "python",
   "name": "python3"
  },
  "language_info": {
   "codemirror_mode": {
    "name": "ipython",
    "version": 3
   },
   "file_extension": ".py",
   "mimetype": "text/x-python",
   "name": "python",
   "nbconvert_exporter": "python",
   "pygments_lexer": "ipython3",
   "version": "3.6.6"
  }
 },
 "nbformat": 4,
 "nbformat_minor": 2
}
