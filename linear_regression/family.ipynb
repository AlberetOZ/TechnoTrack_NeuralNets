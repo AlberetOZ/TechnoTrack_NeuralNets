{
 "cells": [
  {
   "cell_type": "code",
   "execution_count": 1,
   "metadata": {},
   "outputs": [],
   "source": [
    "import pickle\n",
    "import numpy as np\n",
    "import PIL.Image\n",
    "import itertools\n",
    "from IPython.core.display import Image, display\n",
    "import scipy.ndimage\n",
    "import random\n",
    "import numpy as np\n",
    "import matplotlib.pylab as plt\n",
    "import math\n",
    "import sys\n",
    "%matplotlib inline"
   ]
  },
  {
   "cell_type": "code",
   "execution_count": 2,
   "metadata": {},
   "outputs": [],
   "source": [
    "# Load the data\n",
    "with open('./hw_1_train.pickle', 'rb') as f:\n",
    "    train = pickle.load(f)\n",
    "\n",
    "with open('./hw_1_test_no_lables.pickle', 'rb') as f:\n",
    "    test_no_lables = pickle.load(f)"
   ]
  },
  {
   "cell_type": "code",
   "execution_count": 3,
   "metadata": {},
   "outputs": [
    {
     "data": {
      "text/plain": [
       "<matplotlib.image.AxesImage at 0x7ff535dd3ba8>"
      ]
     },
     "execution_count": 3,
     "metadata": {},
     "output_type": "execute_result"
    },
    {
     "data": {
      "image/png": "[encoded data removed]",
      "text/plain": [
       "<Figure size 432x288 with 1 Axes>"
      ]
     },
     "metadata": {},
     "output_type": "display_data"
    }
   ],
   "source": [
    "# Example of a picture\n",
    "plt.imshow(train['data'][15].reshape(28,28))"
   ]
  },
  {
   "cell_type": "code",
   "execution_count": 4,
   "metadata": {},
   "outputs": [],
   "source": [
    "np.random.seed(7)\n",
    "\n",
    "# Set labels (1 if \"five\" and 0 if \"six\")\n",
    "data_set = train['data']\n",
    "labels = train['labels'] == 5 + 0\n",
    "\n",
    "train_numbers = np.arange(10000)\n",
    "np.random.shuffle(train_numbers)\n",
    "\n",
    "# Pick 90% of dataset for training set\n",
    "X_train = data_set[train_numbers[:9000:]]\n",
    "Y_train = labels[train_numbers[:9000:]]\n",
    "\n",
    "# Pick 10% of dataset for test set\n",
    "X_test = data_set[train_numbers[9000::]]\n",
    "Y_test = labels[train_numbers[9000::]]"
   ]
  },
  {
   "cell_type": "code",
   "execution_count": 5,
   "metadata": {},
   "outputs": [],
   "source": [
    "def sigmoid(z):\n",
    "    \"\"\"\n",
    "    Arguments:\n",
    "    z -- A scalar or numpy array of any size.\n",
    "\n",
    "    Return:\n",
    "    s -- sigmoid(z)\n",
    "    \"\"\"\n",
    "    s = 1 / (1 + np.exp(-z))\n",
    "    return s"
   ]
  },
  {
   "cell_type": "code",
   "execution_count": 6,
   "metadata": {},
   "outputs": [],
   "source": [
    "def initialize_with_zeros(dim):\n",
    "    \"\"\"\n",
    "    Argument:\n",
    "    dim -- size of the w vector we want (or number of parameters in this case)\n",
    "    \n",
    "    Returns:\n",
    "    w -- initialized vector of shape (dim, 1)\n",
    "    b -- initialized scalar (corresponds to the bias)\n",
    "    \"\"\"\n",
    "    w = np.zeros((dim, 1))\n",
    "    b = 0\n",
    "    return w, b"
   ]
  },
  {
   "cell_type": "code",
   "execution_count": 7,
   "metadata": {},
   "outputs": [],
   "source": [
    "def forward_prop(w, b, X, Y, lambd):\n",
    "    \"\"\"\n",
    "    Arguments:\n",
    "    w -- weights, a numpy array\n",
    "    b -- bias, a scalar\n",
    "    X -- dataset\n",
    "    Y -- true \"label\" vector (containing 0 if \"five\", 1 if \"six\") of size (1, number of examples)\n",
    "\n",
    "    Return:\n",
    "    cost -- cost for logistic regression\n",
    "    dw -- gradient of the loss with respect to w, thus same shape as w\n",
    "    db -- gradient of the loss with respect to b, thus same shape as b\n",
    "    lambd -- regularization hyperparameter, scalar\n",
    "    \"\"\"\n",
    "    \n",
    "    m = X.shape[1]\n",
    "    \n",
    "    z = np.dot(w.T, X) + b\n",
    "    A = sigmoid(z) \n",
    "    \n",
    "    cost = (-1 / m) * (np.dot(Y, np.log(A.T + 1e-16)) + np.dot((1 - Y) , np.log (1 - A.T + 1e-16))) + lambd/(2*m)*np.dot(w.T, w)\n",
    "    dw = 1/m * np.dot(X , (A - Y).T) + w*(lambd)/m\n",
    "    db = 1/m * np.sum (A - Y)\n",
    "        \n",
    "    grads = {\"dw\": dw,\n",
    "             \"db\": db}\n",
    "        \n",
    "    return grads, cost  "
   ]
  },
  {
   "cell_type": "code",
   "execution_count": 8,
   "metadata": {},
   "outputs": [],
   "source": [
    "def optimize(w, b, X_train, Y_train, X_test, Y_test, num_iterations, learning_rate, lambd = 0, print_cost = False):\n",
    "    \"\"\"\n",
    "    This function optimizes w and b by running a gradient descent algorithm\n",
    "    \n",
    "    Arguments:\n",
    "    w -- weights, a numpy array\n",
    "    b -- bias, a scalar\n",
    "    X_train -- training set represented by a numpy array\n",
    "    Y_train -- training labels represented by a numpy array\n",
    "    X_test -- test set represented by a numpy array\n",
    "    Y_test -- test labels represented by a numpy array\n",
    "    \n",
    "    num_iterations -- number of iterations of the optimization loop\n",
    "    learning_rate -- learning rate of the gradient descent update rule\n",
    "    lambd -- regularization hyperparameter, scalar\n",
    "    print_cost -- True to print the loss every 250 steps\n",
    "    \n",
    "    Returns:\n",
    "    params -- dictionary containing the weights w and bias b\n",
    "    grads -- dictionary containing the gradients of the weights and bias with respect to the cost function\n",
    "    costs -- list of all the costs computed during the optimization, this will be used to plot the learning curve.\n",
    "    accur -- list of all the accuracy computed during the optimization, this will be used to plot the accuracy curve\n",
    "    \"\"\"\n",
    "    \n",
    "    dim = Y_train.shape[0]\n",
    "    \n",
    "    costs = dict()\n",
    "    costs[\"train\"] = list()\n",
    "    costs[\"test\"]  = list()\n",
    "    \n",
    "    accur = dict()\n",
    "    accur[\"train\"] = list()\n",
    "    accur[\"test\"]  = list()\n",
    "    \n",
    "    for i in range(num_iterations):\n",
    "        \n",
    "        grads, cost_train = forward_prop(w, b, X_train, Y_train, lambd)\n",
    "       \n",
    "        dw = grads[\"dw\"]\n",
    "        db = grads[\"db\"]\n",
    "        \n",
    "        w = w - learning_rate * dw\n",
    "        b = b - learning_rate * db\n",
    "       \n",
    "        if i % 100 == 0:\n",
    "            _, cost_test = forward_prop(w,b, X_test, Y_test, lambd)\n",
    "            costs[\"train\"].append(cost_train)\n",
    "            costs[\"test\"].append(cost_test)\n",
    "            \n",
    "            Y_prediction_test = predict(w, b, X_test)\n",
    "            Y_prediction_train = predict(w, b, X_train)\n",
    "            accur[\"train\"].append(100 - np.mean(np.abs(Y_prediction_train - Y_train)) * 100)\n",
    "            accur[\"test\"].append(100 - np.mean(np.abs(Y_prediction_test - Y_test)) * 100)                                    \n",
    "                                         \n",
    "        if print_cost and i % 250 == 0:\n",
    "            print (\"Test cost after iteration %i: %f\" %(i, cost_test))\n",
    "            print (\"Train cost after iteration %i: %f\" %(i, cost_train))\n",
    "    \n",
    "    params = {\"w\": w,\n",
    "              \"b\": b}\n",
    "    \n",
    "    grads = {\"dw\": dw,\n",
    "             \"db\": db}\n",
    "    \n",
    "    return params, grads, costs, accur"
   ]
  },
  {
   "cell_type": "code",
   "execution_count": 9,
   "metadata": {},
   "outputs": [],
   "source": [
    "def predict(w, b, X):\n",
    "    '''\n",
    "    Predict whether the label is 0 or 1 using learned logistic regression parameters (w, b)\n",
    "    \n",
    "    Arguments:\n",
    "    w -- weights, a numpy array\n",
    "    b -- bias, a scalar\n",
    "    X -- data set\n",
    "    \n",
    "    Returns:\n",
    "    Y_prediction -- a numpy array (vector) containing all predictions (0/1) for the examples in X\n",
    "    '''\n",
    "    \n",
    "    m = X.shape[1]\n",
    "    Y_prediction = np.zeros((1,m))\n",
    "    w = w.reshape(X.shape[0], 1)\n",
    "    \n",
    "    z = np.dot(w.T, X) + b\n",
    "    A = sigmoid(z)  \n",
    "    \n",
    "    Y_prediction = np.around(A) \n",
    "    return Y_prediction"
   ]
  },
  {
   "cell_type": "code",
   "execution_count": 10,
   "metadata": {},
   "outputs": [],
   "source": [
    "def model(X_train, Y_train, X_test, Y_test, num_iterations, learning_rate, lambd = 0, print_cost = False):\n",
    "    \"\"\"\n",
    "    Arguments:\n",
    "    X_train -- training set represented by a numpy array\n",
    "    Y_train -- training labels represented by a numpy array\n",
    "    X_test -- test set represented by a numpy array\n",
    "    Y_test -- test labels represented by a numpy array\n",
    "    num_iterations -- hyperparameter representing the number of iterations to optimize the parameters\n",
    "    learning_rate -- hyperparameter representing the learning rate used in the update rule of optimize()\n",
    "    lambd -- regularization hyperparameter, scalar\n",
    "    print_cost -- Set to true to print the cost every 250 iterations\n",
    "    \n",
    "    Returns:\n",
    "    d -- dictionary containing information about the model.\n",
    "    \"\"\"\n",
    "   \n",
    "    dim = X_train.shape[0]\n",
    "    w, b = initialize_with_zeros(dim)\n",
    "\n",
    "    parameters, grads, costs, accur = optimize(w, b, X_train, Y_train, X_test, Y_test, num_iterations, learning_rate, lambd, print_cost)\n",
    "    \n",
    "    w = parameters[\"w\"]\n",
    "    b = parameters[\"b\"]\n",
    "    \n",
    "    Y_prediction_test = predict(w, b, X_test)\n",
    "    Y_prediction_train = predict(w, b, X_train)\n",
    "\n",
    "    print(\"train accuracy: {} %\".format(100 - np.mean(np.abs(Y_prediction_train - Y_train)) * 100))\n",
    "    print(\"test accuracy: {} %\".format(100 - np.mean(np.abs(Y_prediction_test - Y_test)) * 100))\n",
    "\n",
    "    d = {\"costs\": costs,\n",
    "         \"accur\": accur,\n",
    "         \"Y_prediction_test\": Y_prediction_test, \n",
    "         \"Y_prediction_train\" : Y_prediction_train, \n",
    "         \"w\" : w, \n",
    "         \"b\" : b,\n",
    "         \"learning_rate\" : learning_rate,\n",
    "         \"num_iterations\": num_iterations}\n",
    "    \n",
    "    return d"
   ]
  },
  {
   "cell_type": "code",
   "execution_count": 25,
   "metadata": {},
   "outputs": [
    {
     "name": "stdout",
     "output_type": "stream",
     "text": [
      "Test cost after iteration 0: 0.727356\n",
      "Train cost after iteration 0: 0.693147\n",
      "Test cost after iteration 250: 0.049158\n",
      "Train cost after iteration 250: 0.047494\n",
      "Test cost after iteration 500: 0.041533\n",
      "Train cost after iteration 500: 0.042003\n",
      "Test cost after iteration 750: 0.039238\n",
      "Train cost after iteration 750: 0.039017\n",
      "Test cost after iteration 1000: 0.036861\n",
      "Train cost after iteration 1000: 0.036921\n",
      "Test cost after iteration 1250: 0.035671\n",
      "Train cost after iteration 1250: 0.035308\n",
      "Test cost after iteration 1500: 0.034239\n",
      "Train cost after iteration 1500: 0.034000\n",
      "Test cost after iteration 1750: 0.033448\n",
      "Train cost after iteration 1750: 0.032900\n",
      "Test cost after iteration 2000: 0.032439\n",
      "Train cost after iteration 2000: 0.031954\n",
      "Test cost after iteration 2250: 0.031856\n",
      "Train cost after iteration 2250: 0.031125\n",
      "Test cost after iteration 2500: 0.031086\n",
      "Train cost after iteration 2500: 0.030389\n",
      "Test cost after iteration 2750: 0.030631\n",
      "Train cost after iteration 2750: 0.029729\n",
      "Test cost after iteration 3000: 0.030018\n",
      "Train cost after iteration 3000: 0.029131\n",
      "Test cost after iteration 3250: 0.029649\n",
      "Train cost after iteration 3250: 0.028587\n",
      "Test cost after iteration 3500: 0.029145\n",
      "Train cost after iteration 3500: 0.028087\n",
      "Test cost after iteration 3750: 0.028838\n",
      "Train cost after iteration 3750: 0.027626\n",
      "Test cost after iteration 4000: 0.028414\n",
      "Train cost after iteration 4000: 0.027199\n",
      "Test cost after iteration 4250: 0.028153\n",
      "Train cost after iteration 4250: 0.026802\n",
      "Test cost after iteration 4500: 0.027790\n",
      "Train cost after iteration 4500: 0.026430\n",
      "Test cost after iteration 4750: 0.027565\n",
      "Train cost after iteration 4750: 0.026082\n",
      "Test cost after iteration 5000: 0.027250\n",
      "Train cost after iteration 5000: 0.025754\n",
      "Test cost after iteration 5250: 0.027053\n",
      "Train cost after iteration 5250: 0.025445\n",
      "Test cost after iteration 5500: 0.026775\n",
      "Train cost after iteration 5500: 0.025152\n",
      "Test cost after iteration 5750: 0.026601\n",
      "Train cost after iteration 5750: 0.024875\n",
      "Test cost after iteration 6000: 0.026354\n",
      "Train cost after iteration 6000: 0.024611\n",
      "Test cost after iteration 6250: 0.026198\n",
      "Train cost after iteration 6250: 0.024360\n",
      "Test cost after iteration 6500: 0.025977\n",
      "Train cost after iteration 6500: 0.024121\n",
      "Test cost after iteration 6750: 0.025836\n",
      "Train cost after iteration 6750: 0.023891\n",
      "Test cost after iteration 7000: 0.025636\n",
      "Train cost after iteration 7000: 0.023672\n",
      "Test cost after iteration 7250: 0.025509\n",
      "Train cost after iteration 7250: 0.023461\n",
      "Test cost after iteration 7500: 0.025327\n",
      "Train cost after iteration 7500: 0.023259\n",
      "Test cost after iteration 7750: 0.025210\n",
      "Train cost after iteration 7750: 0.023065\n",
      "Test cost after iteration 8000: 0.025043\n",
      "Train cost after iteration 8000: 0.022877\n",
      "Test cost after iteration 8250: 0.024937\n",
      "Train cost after iteration 8250: 0.022696\n",
      "Test cost after iteration 8500: 0.024783\n",
      "Train cost after iteration 8500: 0.022522\n",
      "Test cost after iteration 8750: 0.024685\n",
      "Train cost after iteration 8750: 0.022353\n",
      "Test cost after iteration 9000: 0.024543\n",
      "Train cost after iteration 9000: 0.022189\n",
      "Test cost after iteration 9250: 0.024452\n",
      "Train cost after iteration 9250: 0.022031\n",
      "Test cost after iteration 9500: 0.024320\n",
      "Train cost after iteration 9500: 0.021878\n",
      "Test cost after iteration 9750: 0.024235\n",
      "Train cost after iteration 9750: 0.021729\n",
      "train accuracy: 99.33333333333333 %\n",
      "test accuracy: 99.27 %\n"
     ]
    }
   ],
   "source": [
    "d = model(X_train.T, Y_train.T, X_test.T, Y_test.T, num_iterations = 10000, learning_rate = 0.00005,lambd=0, print_cost = True)"
   ]
  },
  {
   "cell_type": "code",
   "execution_count": 31,
   "metadata": {
    "scrolled": false
   },
   "outputs": [
    {
     "data": {
      "image/png": "[encoded data removed]",
      "text/plain": [
       "<Figure size 432x288 with 1 Axes>"
      ]
     },
     "metadata": {},
     "output_type": "display_data"
    }
   ],
   "source": [
    "# Plot learning curve\n",
    "plt.plot(np.squeeze(d['costs']['train']))\n",
    "plt.plot(np.squeeze(d['costs']['test']))\n",
    "\n",
    "plt.legend(['train', 'test'], loc='upper right')\n",
    "\n",
    "plt.ylabel('cost')\n",
    "plt.xlabel('iterations')\n",
    "plt.title(\"Learning rate =\" + str(d[\"learning_rate\"]))\n",
    "plt.show()"
   ]
  },
  {
   "cell_type": "code",
   "execution_count": 32,
   "metadata": {},
   "outputs": [
    {
     "data": {
      "image/png": "[encoded data removed]",
      "text/plain": [
       "<Figure size 432x288 with 1 Axes>"
      ]
     },
     "metadata": {},
     "output_type": "display_data"
    }
   ],
   "source": [
    "# Plot accuracy curve\n",
    "plt.plot(np.squeeze(d['accur']['train']))\n",
    "plt.plot(np.squeeze(d['accur']['test']))\n",
    "\n",
    "plt.legend(['train', 'test'], loc='lower right')\n",
    "\n",
    "plt.ylabel('accur')\n",
    "plt.xlabel('iterations')\n",
    "plt.title(\"Learning rate =\" + str(d[\"learning_rate\"]))\n",
    "plt.show()"
   ]
  },
  {
   "cell_type": "code",
   "execution_count": 33,
   "metadata": {},
   "outputs": [],
   "source": [
    "X = test_no_lables['data'].T\n",
    "\n",
    "# Convert to probobillity of \"six\"\n",
    "Y_pred = 1 - sigmoid(np.dot(d[\"w\"].T, X) + d[\"b\"])\n",
    "\n",
    "# Save results\n",
    "with open('solution.csv', 'w') as fout:\n",
    "    print(\"Id,Prediction\", file=fout)\n",
    "    for i in range(len(test_no_lables['data'])):\n",
    "        print(i, np.squeeze(Y_pred[:, i]), sep=',', file=fout)"
   ]
  },
  {
   "cell_type": "code",
   "execution_count": 37,
   "metadata": {},
   "outputs": [
    {
     "data": {
      "text/plain": [
       "<matplotlib.image.AxesImage at 0x7ff530a39c18>"
      ]
     },
     "execution_count": 37,
     "metadata": {},
     "output_type": "execute_result"
    },
    {
     "data": {
      "image/png": "[encoded data removed]",
      "text/plain": [
       "<Figure size 432x288 with 1 Axes>"
      ]
     },
     "metadata": {},
     "output_type": "display_data"
    }
   ],
   "source": [
    "plt.imshow(test_no_lables['data'][228].reshape(28,28))"
   ]
  },
  {
   "cell_type": "code",
   "execution_count": 78,
   "metadata": {},
   "outputs": [
    {
     "name": "stdout",
     "output_type": "stream",
     "text": [
      "Overall accuracy: 99.2 %\n"
     ]
    }
   ],
   "source": [
    "np.random.seed(0)\n",
    "train_numbers = np.arange(1000)\n",
    "np.random.shuffle(train_numbers)\n",
    "\n",
    "X_test = data_set[train_numbers]\n",
    "Y_test = labels[train_numbers]\n",
    "Y_prediction_train = predict(d[\"w\"], d[\"b\"], X_test.T)\n",
    "\n",
    "print(\"Overall accuracy: {} %\".format(100 - np.mean(np.abs(Y_prediction_train - Y_test)) * 100))"
   ]
  },
  {
   "cell_type": "code",
   "execution_count": null,
   "metadata": {},
   "outputs": [],
   "source": []
  }
 ],
 "metadata": {
  "kernelspec": {
   "display_name": "Python 3",
   "language": "python",
   "name": "python3"
  },
  "language_info": {
   "codemirror_mode": {
    "name": "ipython",
    "version": 3
   },
   "file_extension": ".py",
   "mimetype": "text/x-python",
   "name": "python",
   "nbconvert_exporter": "python",
   "pygments_lexer": "ipython3",
   "version": "3.6.5"
  }
 },
 "nbformat": 4,
 "nbformat_minor": 1
}
