{
 "cells": [
  {
   "cell_type": "code",
   "execution_count": 1,
   "metadata": {},
   "outputs": [],
   "source": [
    "import torch\n",
    "import torch.nn as nn\n",
    "from torch.optim import SGD \n",
    "import numpy as np"
   ]
  },
  {
   "cell_type": "markdown",
   "metadata": {},
   "source": [
    "# Упражнение, для реализации \"Ванильной\" RNN\n",
    "* Попробуем обучить сеть восстанавливать слово hello по первой букве. т.е. построим charecter-level модель"
   ]
  },
  {
   "cell_type": "code",
   "execution_count": 2,
   "metadata": {},
   "outputs": [],
   "source": [
    "a = torch.ones((3,3))*3\n",
    "b = torch.ones((3,3))*5"
   ]
  },
  {
   "cell_type": "code",
   "execution_count": 3,
   "metadata": {},
   "outputs": [
    {
     "data": {
      "text/plain": [
       "tensor([[45., 45., 45.],\n",
       "        [45., 45., 45.],\n",
       "        [45., 45., 45.]])"
      ]
     },
     "execution_count": 3,
     "metadata": {},
     "output_type": "execute_result"
    }
   ],
   "source": [
    "a @ b"
   ]
  },
  {
   "cell_type": "code",
   "execution_count": 4,
   "metadata": {},
   "outputs": [
    {
     "data": {
      "text/plain": [
       "tensor([[15., 15., 15.],\n",
       "        [15., 15., 15.],\n",
       "        [15., 15., 15.]])"
      ]
     },
     "execution_count": 4,
     "metadata": {},
     "output_type": "execute_result"
    }
   ],
   "source": [
    "a * b"
   ]
  },
  {
   "cell_type": "code",
   "execution_count": 5,
   "metadata": {},
   "outputs": [],
   "source": [
    "word = 'ololoasdasddqweqw123456789'\n",
    "# word = 'hello'"
   ]
  },
  {
   "cell_type": "markdown",
   "metadata": {},
   "source": [
    "## Датасет. \n",
    "Позволяет:\n",
    "* Закодировать символ при помощи one-hot\n",
    "* Делать итератор по слову, которыей возвращает текущий символ и следующий как таргет"
   ]
  },
  {
   "cell_type": "code",
   "execution_count": 6,
   "metadata": {},
   "outputs": [],
   "source": [
    "class WordDataSet:\n",
    "    \n",
    "    def __init__(self, word):\n",
    "        self.chars2idx = {}\n",
    "        self.indexs  = []\n",
    "        for c in word: \n",
    "            if c not in self.chars2idx:\n",
    "                self.chars2idx[c] = len(self.chars2idx)\n",
    "                \n",
    "            self.indexs.append(self.chars2idx[c])\n",
    "            \n",
    "        #print(self.chars2idx)\n",
    "        #print(self.indexs)\n",
    "            \n",
    "        self.vec_size = len(self.chars2idx)\n",
    "        self.seq_len  = len(word)\n",
    "        \n",
    "    def get_one_hot(self, idx):\n",
    "        x = torch.zeros(self.vec_size)\n",
    "        x[idx] = 1\n",
    "        return x\n",
    "    \n",
    "    def __iter__(self):\n",
    "        return zip(self.indexs[:-1], self.indexs[1:])\n",
    "    \n",
    "    def __len__(self):\n",
    "        return self.seq_len\n",
    "    \n",
    "    def get_char_by_id(self, id):\n",
    "        for c, i in self.chars2idx.items():\n",
    "            if id == i: return c\n",
    "        return None"
   ]
  },
  {
   "cell_type": "markdown",
   "metadata": {},
   "source": [
    "## Реализация базовой RNN\n",
    "<br/>\n",
    "Скрытый элемент\n",
    "$$ h_t= tanh⁡ (W_{ℎℎ} h_{t−1}+W_{xh} x_t) $$\n",
    "Выход сети\n",
    "\n",
    "$$ y_t = W_{hy} h_t $$"
   ]
  },
  {
   "cell_type": "code",
   "execution_count": 7,
   "metadata": {},
   "outputs": [],
   "source": [
    "class VanillaRNN(nn.Module):\n",
    "    \n",
    "    def __init__(self, in_size=5, hidden_size=3, out_size=5):\n",
    "        super(VanillaRNN, self).__init__()        \n",
    "        \n",
    "        self.n_a = hidden_size\n",
    "        self.n_x = in_size\n",
    "        self.n_y = out_size\n",
    "        \n",
    "        self.x2hidden    = nn.Linear(in_features=in_size, out_features=hidden_size)\n",
    "        self.hidden      = nn.Linear(in_features=hidden_size, out_features=hidden_size)\n",
    "        self.activation  = nn.Tanh()\n",
    "        self.outweight   = nn.Linear(in_features=hidden_size, out_features=out_size)\n",
    "    \n",
    "    def forward(self, x, prev_hidden):\n",
    "        hidden = self.activation(self.x2hidden(x) + self.hidden(prev_hidden))\n",
    "#         Версия без активации - может происходить gradient exploding\n",
    "#         hidden = self.x2hidden(x) + self.hidden(prev_hidden)\n",
    "        output = self.outweight(hidden)\n",
    "        return output, hidden"
   ]
  },
  {
   "cell_type": "markdown",
   "metadata": {},
   "source": [
    "## Инициализация переменных "
   ]
  },
  {
   "cell_type": "code",
   "execution_count": 8,
   "metadata": {},
   "outputs": [],
   "source": [
    "ds = WordDataSet(word=word)\n",
    "rnn = VanillaRNN(in_size=ds.vec_size, hidden_size=3, out_size=ds.vec_size)"
   ]
  },
  {
   "cell_type": "markdown",
   "metadata": {},
   "source": [
    "# Обучение"
   ]
  },
  {
   "cell_type": "code",
   "execution_count": 9,
   "metadata": {},
   "outputs": [],
   "source": [
    "def train(net, lr=0.1, n_epochs=100, CLIP_GRAD=True, max_norm=5):\n",
    "    optim  = SGD(net.parameters(), lr, momentum=0.9)\n",
    "    criterion = nn.CrossEntropyLoss()\n",
    "    \n",
    "    for epoch in range(n_epochs):\n",
    "        hh = torch.zeros(net.n_a)\n",
    "        loss = 0\n",
    "        optim.zero_grad()\n",
    "        for sample, next_sample in ds:\n",
    "            x = ds.get_one_hot(sample).unsqueeze(0)\n",
    "            target =  torch.LongTensor([next_sample])\n",
    "            y, hh = net(x, hh)\n",
    "            loss += criterion(y, target)\n",
    "            \n",
    "        loss.backward()\n",
    "    \n",
    "        if epoch % 10 == 0:\n",
    "            print (loss.data.item())\n",
    "            if CLIP_GRAD: print(\"Clip gradient : \", torch.nn.utils.clip_grad_norm_(net.parameters(), max_norm))\n",
    "        else: \n",
    "            if CLIP_GRAD: torch.nn.utils.clip_grad_norm_(net.parameters(), max_norm)\n",
    "    \n",
    "        optim.step()"
   ]
  },
  {
   "cell_type": "code",
   "execution_count": 10,
   "metadata": {},
   "outputs": [
    {
     "name": "stdout",
     "output_type": "stream",
     "text": [
      "71.97434997558594\n",
      "Clip gradient :  4.90425165620005\n",
      "66.48231506347656\n",
      "Clip gradient :  3.4030055180284444\n",
      "56.529151916503906\n",
      "Clip gradient :  4.989967228275313\n",
      "43.1971435546875\n",
      "Clip gradient :  3.721540013347095\n",
      "34.71894454956055\n",
      "Clip gradient :  2.9675023548192274\n",
      "29.280670166015625\n",
      "Clip gradient :  2.3556675618455754\n",
      "25.39620590209961\n",
      "Clip gradient :  2.0376077116542572\n",
      "22.33237075805664\n",
      "Clip gradient :  1.643868302690176\n",
      "20.0447940826416\n",
      "Clip gradient :  1.393899643400129\n",
      "18.324787139892578\n",
      "Clip gradient :  1.192528132150409\n",
      "16.956768035888672\n",
      "Clip gradient :  1.0766319716431738\n",
      "15.828237533569336\n",
      "Clip gradient :  0.9820271809442367\n",
      "14.87269401550293\n",
      "Clip gradient :  0.9156732085553738\n",
      "14.031759262084961\n",
      "Clip gradient :  0.8774152740335416\n",
      "13.260930061340332\n",
      "Clip gradient :  0.8548772382027506\n"
     ]
    }
   ],
   "source": [
    "train(rnn, lr=0.01, n_epochs=150)"
   ]
  },
  {
   "cell_type": "markdown",
   "metadata": {},
   "source": [
    "# Тестирование"
   ]
  },
  {
   "cell_type": "code",
   "execution_count": 11,
   "metadata": {},
   "outputs": [
    {
     "name": "stdout",
     "output_type": "stream",
     "text": [
      "Prediction:\t ololoasdasdasdasdasdasdasd\n",
      "Original:\t ololoasdasddqweqw123456789\n"
     ]
    },
    {
     "ename": "AssertionError",
     "evalue": "",
     "output_type": "error",
     "traceback": [
      "\u001b[0;31m---------------------------------------------------------------------------\u001b[0m",
      "\u001b[0;31mAssertionError\u001b[0m                            Traceback (most recent call last)",
      "\u001b[0;32m<ipython-input-11-612b341693d4>\u001b[0m in \u001b[0;36m<module>\u001b[0;34m\u001b[0m\n\u001b[1;32m     13\u001b[0m \u001b[0mprint\u001b[0m \u001b[0;34m(\u001b[0m\u001b[0;34m'Prediction:\\t'\u001b[0m \u001b[0;34m,\u001b[0m \u001b[0mpredword\u001b[0m\u001b[0;34m)\u001b[0m\u001b[0;34m\u001b[0m\u001b[0m\n\u001b[1;32m     14\u001b[0m \u001b[0mprint\u001b[0m\u001b[0;34m(\u001b[0m\u001b[0;34m\"Original:\\t\"\u001b[0m\u001b[0;34m,\u001b[0m \u001b[0mword\u001b[0m\u001b[0;34m)\u001b[0m\u001b[0;34m\u001b[0m\u001b[0m\n\u001b[0;32m---> 15\u001b[0;31m \u001b[0;32massert\u001b[0m\u001b[0;34m(\u001b[0m\u001b[0mpredword\u001b[0m \u001b[0;34m==\u001b[0m \u001b[0mword\u001b[0m\u001b[0;34m)\u001b[0m\u001b[0;34m\u001b[0m\u001b[0m\n\u001b[0m",
      "\u001b[0;31mAssertionError\u001b[0m: "
     ]
    }
   ],
   "source": [
    "rnn.eval()\n",
    "hh = torch.zeros(rnn.hidden.in_features)\n",
    "id = 0\n",
    "softmax  = nn.Softmax(dim=1)\n",
    "predword = ds.get_char_by_id(id)\n",
    "for c in enumerate(word[:-1]):\n",
    "    x = ds.get_one_hot(id).unsqueeze(0)\n",
    "    y, hh = rnn(x, hh)\n",
    "    y = softmax(y)\n",
    "    m, id = torch.max(y, 1)\n",
    "    id = id.data[0]\n",
    "    predword += ds.get_char_by_id(id)\n",
    "print ('Prediction:\\t' , predword)\n",
    "print(\"Original:\\t\", word)\n",
    "assert(predword == word)"
   ]
  },
  {
   "cell_type": "markdown",
   "metadata": {},
   "source": [
    "# ДЗ\n",
    "Реализовать LSTM и GRU модули, обучить их предсказывать тестовое слово"
   ]
  },
  {
   "cell_type": "code",
   "execution_count": 50,
   "metadata": {},
   "outputs": [],
   "source": [
    "#тестовое слово\n",
    "word = \"\"\"«Мой дядя самых честных правил\"\"\""
   ]
  },
  {
   "cell_type": "markdown",
   "metadata": {},
   "source": [
    "## Реализовать LSTM"
   ]
  },
  {
   "cell_type": "code",
   "execution_count": 51,
   "metadata": {},
   "outputs": [],
   "source": [
    "class LSTM_cell(nn.Module):\n",
    "    def __init__(self, in_size, hidden_size, out_size):\n",
    "        super(LSTM_cell, self).__init__()\n",
    "    \n",
    "        self.n_a = hidden_size\n",
    "        self.n_x = in_size\n",
    "        self.n_y = out_size\n",
    "        \n",
    "        self.forget_gate = nn.Sequential(nn.Linear(in_size + hidden_size, hidden_size), nn.Sigmoid())\n",
    "        self.update_gate = nn.Sequential(nn.Linear(in_size + hidden_size, hidden_size), nn.Sigmoid())\n",
    "        self.output_gate = nn.Sequential(nn.Linear(in_size + hidden_size, hidden_size), nn.Sigmoid())\n",
    "        self.cand_cell  = nn.Sequential(nn.Linear(in_size + hidden_size, hidden_size), nn.Tanh())\n",
    "        self.out_weight = nn.Linear(hidden_size, out_size)\n",
    "        \n",
    "        self.hidden_activation = nn.Tanh()\n",
    "        \n",
    "    def forward(self, x, prev_hidden):\n",
    "        concat = torch.cat((prev_hidden.squeeze(0), x.squeeze(0)))\n",
    "        \n",
    "        ft = self.forget_gate(concat)\n",
    "        it = self.update_gate(concat)\n",
    "        ot = self.output_gate(concat)\n",
    "        \n",
    "        cct = self.cand_cell(concat)\n",
    "        c_next = cct * it + prev_hidden * ft\n",
    "        a_next = ot * self.hidden_activation(c_next)\n",
    "        \n",
    "        output = self.out_weight(a_next).unsqueeze(0)\n",
    "        return output, a_next\n",
    "    "
   ]
  },
  {
   "cell_type": "code",
   "execution_count": 52,
   "metadata": {},
   "outputs": [],
   "source": [
    "ds = WordDataSet(word=word)\n",
    "lstm_rnn = LSTM_cell(in_size=ds.vec_size, hidden_size=100, out_size=ds.vec_size)"
   ]
  },
  {
   "cell_type": "code",
   "execution_count": 56,
   "metadata": {},
   "outputs": [
    {
     "name": "stdout",
     "output_type": "stream",
     "text": [
      "80.4643325805664\n",
      "Clip gradient :  1.9301206902269576\n",
      "65.22058868408203\n",
      "Clip gradient :  4.429612787912155\n",
      "12.46749210357666\n",
      "Clip gradient :  7.177492812955112\n",
      "1.421187400817871\n",
      "Clip gradient :  1.1585327417243547\n",
      "0.0865945816040039\n",
      "Clip gradient :  0.23801389310893414\n"
     ]
    }
   ],
   "source": [
    "train(lstm_rnn, lr=0.05, n_epochs=50)"
   ]
  },
  {
   "cell_type": "code",
   "execution_count": 57,
   "metadata": {},
   "outputs": [],
   "source": [
    "def evaluate(net):\n",
    "    net = net.eval()\n",
    "    hh = torch.zeros(net.n_a)\n",
    "    id = 0\n",
    "    \n",
    "    softmax  = nn.Softmax(dim=1)\n",
    "    predword = ds.get_char_by_id(id)\n",
    "    for c in enumerate(word[:-1]):\n",
    "        x = ds.get_one_hot(id).unsqueeze(0)\n",
    "        y, hh = net(x, hh)\n",
    "        y = softmax(y)\n",
    "        m, id = torch.max(y, 1)\n",
    "        id = id.data[0]\n",
    "        predword += ds.get_char_by_id(id)\n",
    "    print ('Prediction:\\t' , predword)\n",
    "    print(\"Original:\\t\", word)\n",
    "    assert(predword == word)"
   ]
  },
  {
   "cell_type": "code",
   "execution_count": 58,
   "metadata": {},
   "outputs": [
    {
     "name": "stdout",
     "output_type": "stream",
     "text": [
      "Prediction:\t «Мой дядя самых честных правил\n",
      "Original:\t «Мой дядя самых честных правил\n"
     ]
    }
   ],
   "source": [
    "evaluate(lstm_rnn)"
   ]
  },
  {
   "cell_type": "markdown",
   "metadata": {},
   "source": [
    "## Реализовать GRU"
   ]
  },
  {
   "cell_type": "code",
   "execution_count": 18,
   "metadata": {},
   "outputs": [],
   "source": [
    "class GRU_cell(nn.Module):\n",
    "    def __init__(self, in_size, hidden_size, out_size):\n",
    "        super(GRU_cell, self).__init__()\n",
    "    \n",
    "        self.n_a = hidden_size\n",
    "        self.n_x = in_size\n",
    "        self.n_y = out_size\n",
    "        \n",
    "        self.update_gate = nn.Sequential(nn.Linear(in_size + hidden_size, hidden_size), nn.Sigmoid())\n",
    "        self.relevance_gate = nn.Sequential(nn.Linear(in_size + hidden_size, hidden_size), nn.Sigmoid())\n",
    "        self.candidate_cell  = nn.Sequential(nn.Linear(in_size + hidden_size, hidden_size), nn.Tanh())\n",
    "        self.out_weight = nn.Linear(hidden_size, out_size)\n",
    "        \n",
    "        self.hidden_activation = nn.Tanh()\n",
    "        self.candiate_activation = nn.Tanh()\n",
    "        \n",
    "    def forward(self, x, prev_hidden):\n",
    "        a_prev = prev_hidden.squeeze(0)\n",
    "        concat = torch.cat((a_prev, x.squeeze(0)))\n",
    "        \n",
    "        update_gate = self.update_gate(concat)\n",
    "        relevance_gate = self.relevance_gate(concat)\n",
    "        rel_candidate = relevance_gate * a_prev\n",
    "        \n",
    "        concat = torch.cat((rel_candidate, x.squeeze(0)))\n",
    "        candidate = self.candidate_cell(concat)\n",
    "        \n",
    "        c_next = candidate * (1 - update_gate) + update_gate * a_prev\n",
    "        output = self.out_weight(c_next).unsqueeze(0)\n",
    "        return output, c_next"
   ]
  },
  {
   "cell_type": "code",
   "execution_count": 93,
   "metadata": {},
   "outputs": [],
   "source": [
    "ds = WordDataSet(word=word)\n",
    "gru_rnn = GRU_cell(in_size=ds.vec_size, hidden_size=5, out_size=ds.vec_size)"
   ]
  },
  {
   "cell_type": "code",
   "execution_count": 94,
   "metadata": {},
   "outputs": [
    {
     "name": "stdout",
     "output_type": "stream",
     "text": [
      "70.4467544555664\n",
      "Clip gradient :  3.59123330296043\n",
      "37.14460754394531\n",
      "Clip gradient :  6.717894136574477\n",
      "9.919986724853516\n",
      "Clip gradient :  2.7723068490420117\n",
      "4.218854904174805\n",
      "Clip gradient :  1.3942994671346953\n",
      "3.0123491287231445\n",
      "Clip gradient :  0.35867810774022196\n",
      "1.8831167221069336\n",
      "Clip gradient :  1.1508352155338477\n",
      "0.9722824096679688\n",
      "Clip gradient :  1.7333411894432598\n",
      "0.49472999572753906\n",
      "Clip gradient :  2.33619816195852\n",
      "0.23067092895507812\n",
      "Clip gradient :  0.16941317919227789\n",
      "0.17565250396728516\n",
      "Clip gradient :  0.22392842901428078\n",
      "0.14081573486328125\n",
      "Clip gradient :  0.2662560214656703\n",
      "0.11734867095947266\n",
      "Clip gradient :  0.19379205172769318\n",
      "0.10230827331542969\n",
      "Clip gradient :  0.03776777667089957\n",
      "0.0935659408569336\n",
      "Clip gradient :  0.05944661273579925\n",
      "0.08646011352539062\n",
      "Clip gradient :  0.045075577506114795\n",
      "0.08057785034179688\n",
      "Clip gradient :  0.022684133052044284\n",
      "0.07571601867675781\n",
      "Clip gradient :  0.024728948231942816\n",
      "0.07147502899169922\n",
      "Clip gradient :  0.01929751160991124\n",
      "0.06776142120361328\n",
      "Clip gradient :  0.018728040001020803\n",
      "0.06444358825683594\n",
      "Clip gradient :  0.01729526538717107\n",
      "0.061463356018066406\n",
      "Clip gradient :  0.01645266543373628\n",
      "0.05876445770263672\n",
      "Clip gradient :  0.015700014554427152\n",
      "0.056304931640625\n",
      "Clip gradient :  0.015007321748688298\n",
      "0.05404949188232422\n",
      "Clip gradient :  0.014396195828124236\n",
      "0.051978111267089844\n",
      "Clip gradient :  0.013834310470558412\n",
      "0.05006217956542969\n",
      "Clip gradient :  0.01331368719225299\n",
      "0.048293113708496094\n",
      "Clip gradient :  0.012833851687373731\n",
      "0.046639442443847656\n",
      "Clip gradient :  0.012383462376171148\n",
      "0.04510974884033203\n",
      "Clip gradient :  0.011968246023832467\n",
      "0.043674468994140625\n",
      "Clip gradient :  0.011578854164433593\n"
     ]
    }
   ],
   "source": [
    "train(gru_rnn, lr=0.1, n_epochs=300)"
   ]
  },
  {
   "cell_type": "code",
   "execution_count": 95,
   "metadata": {},
   "outputs": [
    {
     "name": "stdout",
     "output_type": "stream",
     "text": [
      "Prediction:\t ololoasdasddqweqw123456789\n",
      "Original:\t ololoasdasddqweqw123456789\n"
     ]
    }
   ],
   "source": [
    "evaluate(gru_rnn)"
   ]
  },
  {
   "cell_type": "code",
   "execution_count": null,
   "metadata": {},
   "outputs": [],
   "source": []
  }
 ],
 "metadata": {
  "anaconda-cloud": {},
  "kernelspec": {
   "display_name": "Python 3",
   "language": "python",
   "name": "python3"
  },
  "language_info": {
   "codemirror_mode": {
    "name": "ipython",
    "version": 3
   },
   "file_extension": ".py",
   "mimetype": "text/x-python",
   "name": "python",
   "nbconvert_exporter": "python",
   "pygments_lexer": "ipython3",
   "version": "3.6.6"
  }
 },
 "nbformat": 4,
 "nbformat_minor": 2
}
